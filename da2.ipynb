{
 "cells": [
  {
   "cell_type": "code",
   "execution_count": 1,
   "id": "bd99514a",
   "metadata": {},
   "outputs": [],
   "source": [
    "import matplotlib.pyplot as plt\n",
    "import numpy as np\n",
    "import cv2\n",
    "import os\n",
    "import PIL\n",
    "import tensorflow as tf\n",
    "\n",
    "from tensorflow import keras\n",
    "from tensorflow.keras import layers\n",
    "from tensorflow.keras.models import Sequential"
   ]
  },
  {
   "cell_type": "code",
   "execution_count": 2,
   "id": "cc476b5e",
   "metadata": {},
   "outputs": [
    {
     "data": {
      "text/plain": [
       "'.\\\\datasets\\\\flower_photos'"
      ]
     },
     "execution_count": 2,
     "metadata": {},
     "output_type": "execute_result"
    }
   ],
   "source": [
    "dataset=\"https://storage.googleapis.com/download.tensorflow.org/example_images/flower_photos.tgz\"\n",
    "data_dir = tf.keras.utils.get_file('flower_photos', origin=dataset, cache_dir='.', untar=True)\n",
    "data_dir"
   ]
  },
  {
   "cell_type": "code",
   "execution_count": 3,
   "id": "2a454ee1",
   "metadata": {},
   "outputs": [
    {
     "data": {
      "text/plain": [
       "WindowsPath('datasets/flower_photos')"
      ]
     },
     "execution_count": 3,
     "metadata": {},
     "output_type": "execute_result"
    }
   ],
   "source": [
    "import pathlib\n",
    "data_dir = pathlib.Path(data_dir)\n",
    "data_dir"
   ]
  },
  {
   "cell_type": "code",
   "execution_count": 4,
   "id": "ed9160a0",
   "metadata": {},
   "outputs": [
    {
     "data": {
      "text/plain": [
       "3670"
      ]
     },
     "execution_count": 4,
     "metadata": {},
     "output_type": "execute_result"
    }
   ],
   "source": [
    "img_count= len(list(data_dir.glob('*/*.jpg')))\n",
    "img_count"
   ]
  },
  {
   "cell_type": "code",
   "execution_count": 5,
   "id": "8aa36b92",
   "metadata": {},
   "outputs": [],
   "source": [
    "flowerdict={\n",
    "    'roses': list(data_dir.glob('roses/*')),\n",
    "    'daisy': list(data_dir.glob('daisy/*')),\n",
    "    'dandelion': list(data_dir.glob('dandelion/*')),\n",
    "    'sunflowers': list(data_dir.glob('sunflowers/*')),\n",
    "    'tulips': list(data_dir.glob('tulips/*'))\n",
    "}\n",
    "\n",
    "flower_labeldict={\n",
    "    'roses':0,\n",
    "    'daisy':1,\n",
    "    'dandelion':2,\n",
    "    'sunflowers':3,\n",
    "    'tulips':4\n",
    "}"
   ]
  },
  {
   "cell_type": "code",
   "execution_count": 6,
   "id": "8a265d96",
   "metadata": {},
   "outputs": [],
   "source": [
    "X,y=[],[]\n",
    "\n",
    "for flower_name, images in flowerdict.items():\n",
    "    for image in images:\n",
    "        img = cv2.imread(str(image))\n",
    "        resized_img = cv2.resize(img, (180,180))\n",
    "        X.append(resized_img)\n",
    "        y.append(flower_labeldict[flower_name])"
   ]
  },
  {
   "cell_type": "code",
   "execution_count": 7,
   "id": "9f81dd24",
   "metadata": {},
   "outputs": [
    {
     "data": {
      "text/plain": [
       "array([[[ 1, 16,  7],\n",
       "        [ 1, 16,  7],\n",
       "        [ 1, 17,  9],\n",
       "        ...,\n",
       "        [23, 50, 31],\n",
       "        [25, 51, 32],\n",
       "        [26, 52, 33]],\n",
       "\n",
       "       [[10, 23, 15],\n",
       "        [10, 23, 15],\n",
       "        [ 9, 22, 14],\n",
       "        ...,\n",
       "        [20, 44, 30],\n",
       "        [23, 47, 33],\n",
       "        [26, 50, 36]],\n",
       "\n",
       "       [[13, 20, 13],\n",
       "        [12, 20, 13],\n",
       "        [11, 19, 12],\n",
       "        ...,\n",
       "        [21, 43, 30],\n",
       "        [22, 45, 31],\n",
       "        [25, 48, 34]],\n",
       "\n",
       "       ...,\n",
       "\n",
       "       [[12, 24, 18],\n",
       "        [11, 22, 15],\n",
       "        [12, 21, 11],\n",
       "        ...,\n",
       "        [ 7, 14,  7],\n",
       "        [ 2,  8,  2],\n",
       "        [ 0,  2,  0]],\n",
       "\n",
       "       [[19, 30, 28],\n",
       "        [16, 26, 21],\n",
       "        [14, 22, 15],\n",
       "        ...,\n",
       "        [ 3, 12,  2],\n",
       "        [ 0,  8,  1],\n",
       "        [ 0,  6,  1]],\n",
       "\n",
       "       [[11, 21, 20],\n",
       "        [17, 25, 24],\n",
       "        [21, 28, 23],\n",
       "        ...,\n",
       "        [ 1, 12,  2],\n",
       "        [ 2, 10,  3],\n",
       "        [ 3, 10,  4]]], dtype=uint8)"
      ]
     },
     "execution_count": 7,
     "metadata": {},
     "output_type": "execute_result"
    }
   ],
   "source": [
    "X[0]"
   ]
  },
  {
   "cell_type": "code",
   "execution_count": 8,
   "id": "502ada92",
   "metadata": {},
   "outputs": [
    {
     "data": {
      "text/plain": [
       "(2752, 918)"
      ]
     },
     "execution_count": 8,
     "metadata": {},
     "output_type": "execute_result"
    }
   ],
   "source": [
    "X = np.array(X)\n",
    "y = np.array(y)\n",
    "\n",
    "from sklearn.model_selection import train_test_split\n",
    "X_train, X_test, y_train, y_test = train_test_split(X, y, random_state=0)\n",
    "\n",
    "len(X_train), len(X_test)"
   ]
  },
  {
   "cell_type": "code",
   "execution_count": 9,
   "id": "1157f149",
   "metadata": {},
   "outputs": [
    {
     "data": {
      "text/plain": [
       "array([[[0.26666667, 0.30980392, 0.30196078],\n",
       "        [0.24705882, 0.2745098 , 0.24705882],\n",
       "        [0.23529412, 0.24313725, 0.21960784],\n",
       "        ...,\n",
       "        [0.19215686, 0.15686275, 0.14509804],\n",
       "        [0.18823529, 0.15294118, 0.14117647],\n",
       "        [0.18823529, 0.15294118, 0.14117647]],\n",
       "\n",
       "       [[0.22352941, 0.24313725, 0.23529412],\n",
       "        [0.23921569, 0.25098039, 0.23529412],\n",
       "        [0.23529412, 0.23921569, 0.21568627],\n",
       "        ...,\n",
       "        [0.18823529, 0.15294118, 0.14117647],\n",
       "        [0.18823529, 0.15294118, 0.14117647],\n",
       "        [0.19607843, 0.16078431, 0.14901961]],\n",
       "\n",
       "       [[0.23921569, 0.22745098, 0.22352941],\n",
       "        [0.25098039, 0.25098039, 0.23137255],\n",
       "        [0.23137255, 0.23137255, 0.20784314],\n",
       "        ...,\n",
       "        [0.19215686, 0.15686275, 0.14509804],\n",
       "        [0.19215686, 0.15686275, 0.14509804],\n",
       "        [0.19607843, 0.16078431, 0.14901961]],\n",
       "\n",
       "       ...,\n",
       "\n",
       "       [[0.19215686, 0.4745098 , 0.36470588],\n",
       "        [0.15686275, 0.25490196, 0.2       ],\n",
       "        [0.20392157, 0.37647059, 0.2627451 ],\n",
       "        ...,\n",
       "        [0.61176471, 0.84705882, 0.82745098],\n",
       "        [0.63137255, 0.84705882, 0.83137255],\n",
       "        [0.6627451 , 0.79607843, 0.80784314]],\n",
       "\n",
       "       [[0.18823529, 0.46666667, 0.35294118],\n",
       "        [0.17647059, 0.22745098, 0.17254902],\n",
       "        [0.19607843, 0.35686275, 0.23529412],\n",
       "        ...,\n",
       "        [0.85098039, 0.91372549, 0.93333333],\n",
       "        [0.78823529, 0.83137255, 0.84313725],\n",
       "        [0.7254902 , 0.65882353, 0.68627451]],\n",
       "\n",
       "       [[0.21176471, 0.4745098 , 0.37254902],\n",
       "        [0.18039216, 0.22745098, 0.18039216],\n",
       "        [0.18039216, 0.34901961, 0.23529412],\n",
       "        ...,\n",
       "        [0.89019608, 0.96078431, 0.97254902],\n",
       "        [0.85882353, 0.78823529, 0.8       ],\n",
       "        [0.42352941, 0.31764706, 0.3254902 ]]])"
      ]
     },
     "execution_count": 9,
     "metadata": {},
     "output_type": "execute_result"
    }
   ],
   "source": [
    "X_train_scaled = X_train / 255\n",
    "X_test_scaled = X_test / 255\n",
    "\n",
    "X_train_scaled[0]"
   ]
  },
  {
   "cell_type": "code",
   "execution_count": 25,
   "id": "8debed3f",
   "metadata": {},
   "outputs": [
    {
     "name": "stdout",
     "output_type": "stream",
     "text": [
      "Epoch 1/10\n",
      "86/86 [==============================] - 107s 1s/step - loss: 1.2601 - accuracy: 0.4622\n",
      "Epoch 2/10\n",
      "86/86 [==============================] - 110s 1s/step - loss: 0.9812 - accuracy: 0.6137\n",
      "Epoch 3/10\n",
      "86/86 [==============================] - 118s 1s/step - loss: 0.8082 - accuracy: 0.6940\n",
      "Epoch 4/10\n",
      "86/86 [==============================] - 51s 584ms/step - loss: 0.6369 - accuracy: 0.7580\n",
      "Epoch 5/10\n",
      "86/86 [==============================] - 50s 589ms/step - loss: 0.4917 - accuracy: 0.8190\n",
      "Epoch 6/10\n",
      "86/86 [==============================] - 46s 541ms/step - loss: 0.2898 - accuracy: 0.9066\n",
      "Epoch 7/10\n",
      "86/86 [==============================] - 116s 1s/step - loss: 0.1525 - accuracy: 0.9524\n",
      "Epoch 8/10\n",
      "86/86 [==============================] - 145s 2s/step - loss: 0.0869 - accuracy: 0.9731\n",
      "Epoch 9/10\n",
      "86/86 [==============================] - 161s 2s/step - loss: 0.0452 - accuracy: 0.9873\n",
      "Epoch 10/10\n",
      "86/86 [==============================] - 103s 1s/step - loss: 0.0568 - accuracy: 0.9836\n"
     ]
    },
    {
     "data": {
      "text/plain": [
       "<keras.callbacks.History at 0x195d10975e0>"
      ]
     },
     "execution_count": 25,
     "metadata": {},
     "output_type": "execute_result"
    }
   ],
   "source": [
    "num_classes=5\n",
    "\n",
    "model = Sequential([\n",
    "    #specify concolutional layers\n",
    "    layers.Conv2D(16, 3, padding='same', activation='relu'),\n",
    "    layers.MaxPooling2D(),\n",
    "    layers.Conv2D(32, 3, padding='same', activation='relu'),\n",
    "    layers.MaxPooling2D(),\n",
    "    layers.Conv2D(64, 3, padding='same', activation='relu'),\n",
    "    layers.MaxPooling2D(),\n",
    "    \n",
    "    #flatten values before dense network(accept 1d array)\n",
    "    layers.Flatten(),\n",
    "    layers.Dense(128, activation='relu'),\n",
    "    layers.Dense(num_classes)\n",
    "])\n",
    "\n",
    "model.compile(optimizer = 'adam',\n",
    "             loss = tf.keras.losses.SparseCategoricalCrossentropy(from_logits=True), metrics=['accuracy'])\n",
    "\n",
    "model.fit(X_train_scaled, y_train, epochs=10)"
   ]
  },
  {
   "cell_type": "code",
   "execution_count": 26,
   "id": "583b91e6",
   "metadata": {},
   "outputs": [
    {
     "name": "stdout",
     "output_type": "stream",
     "text": [
      "29/29 [==============================] - 10s 319ms/step - loss: 1.9403 - accuracy: 0.6416\n"
     ]
    },
    {
     "data": {
      "text/plain": [
       "[1.9403188228607178, 0.64161217212677]"
      ]
     },
     "execution_count": 26,
     "metadata": {},
     "output_type": "execute_result"
    }
   ],
   "source": [
    "model.evaluate(X_test_scaled, y_test)"
   ]
  },
  {
   "cell_type": "code",
   "execution_count": 27,
   "id": "45538a03",
   "metadata": {},
   "outputs": [],
   "source": [
    "data_aug = keras.Sequential([\n",
    "    layers.experimental.preprocessing.RandomFlip(\"horizontal\"),\n",
    "    layers.experimental.preprocessing.RandomRotation(0.1),\n",
    "    layers.experimental.preprocessing.RandomZoom(0.1),\n",
    "])\n",
    "tf.get_logger().setLevel('ERROR')"
   ]
  },
  {
   "cell_type": "code",
   "execution_count": 28,
   "id": "c5387dd3",
   "metadata": {},
   "outputs": [
    {
     "name": "stdout",
     "output_type": "stream",
     "text": [
      "Epoch 1/10\n",
      "86/86 [==============================] - 172s 2s/step - loss: 1.2873 - accuracy: 0.4364\n",
      "Epoch 2/10\n",
      "86/86 [==============================] - 45s 515ms/step - loss: 1.0335 - accuracy: 0.5912\n",
      "Epoch 3/10\n",
      "86/86 [==============================] - 32s 372ms/step - loss: 0.9184 - accuracy: 0.6283\n",
      "Epoch 4/10\n",
      "86/86 [==============================] - 32s 367ms/step - loss: 0.8288 - accuracy: 0.6853\n",
      "Epoch 5/10\n",
      "86/86 [==============================] - 31s 365ms/step - loss: 0.7739 - accuracy: 0.6904\n",
      "Epoch 6/10\n",
      "86/86 [==============================] - 32s 378ms/step - loss: 0.7283 - accuracy: 0.7209\n",
      "Epoch 7/10\n",
      "86/86 [==============================] - 32s 369ms/step - loss: 0.6831 - accuracy: 0.7351\n",
      "Epoch 8/10\n",
      "86/86 [==============================] - 36s 414ms/step - loss: 0.6555 - accuracy: 0.7522\n",
      "Epoch 9/10\n",
      "86/86 [==============================] - 36s 416ms/step - loss: 0.5973 - accuracy: 0.7725\n",
      "Epoch 10/10\n",
      "86/86 [==============================] - 32s 377ms/step - loss: 0.6124 - accuracy: 0.7638\n"
     ]
    },
    {
     "data": {
      "text/plain": [
       "<keras.callbacks.History at 0x195a7c818a0>"
      ]
     },
     "execution_count": 28,
     "metadata": {},
     "output_type": "execute_result"
    }
   ],
   "source": [
    "num_classes=5\n",
    "\n",
    "model = Sequential([\n",
    "    data_aug,\n",
    "    #specify concolutional layers\n",
    "    layers.Conv2D(16, 3, padding='same', activation='relu'),\n",
    "    layers.MaxPooling2D(),\n",
    "    layers.Conv2D(32, 3, padding='same', activation='relu'),\n",
    "    layers.MaxPooling2D(),\n",
    "    layers.Conv2D(64, 3, padding='same', activation='relu'),\n",
    "    layers.MaxPooling2D(),\n",
    "    layers.Dropout(0.2),\n",
    "    #flatten values before dense network(accept 1d array)\n",
    "    layers.Flatten(),\n",
    "    layers.Dense(128, activation='relu'),\n",
    "    layers.Dense(num_classes)\n",
    "])\n",
    "\n",
    "model.compile(optimizer = 'adam',\n",
    "             loss = tf.keras.losses.SparseCategoricalCrossentropy(from_logits=True), metrics=['accuracy'])\n",
    "\n",
    "model.fit(X_train_scaled, y_train, epochs=10)"
   ]
  },
  {
   "cell_type": "code",
   "execution_count": 29,
   "id": "2e5d5442",
   "metadata": {},
   "outputs": [
    {
     "name": "stdout",
     "output_type": "stream",
     "text": [
      "29/29 [==============================] - 2s 74ms/step - loss: 0.9050 - accuracy: 0.6874\n"
     ]
    },
    {
     "data": {
      "text/plain": [
       "[0.9050304293632507, 0.687363862991333]"
      ]
     },
     "execution_count": 29,
     "metadata": {},
     "output_type": "execute_result"
    }
   ],
   "source": [
    "model.evaluate(X_test_scaled, y_test)"
   ]
  }
 ],
 "metadata": {
  "kernelspec": {
   "display_name": "Python 3 (ipykernel)",
   "language": "python",
   "name": "python3"
  },
  "language_info": {
   "codemirror_mode": {
    "name": "ipython",
    "version": 3
   },
   "file_extension": ".py",
   "mimetype": "text/x-python",
   "name": "python",
   "nbconvert_exporter": "python",
   "pygments_lexer": "ipython3",
   "version": "3.10.13"
  }
 },
 "nbformat": 4,
 "nbformat_minor": 5
}
